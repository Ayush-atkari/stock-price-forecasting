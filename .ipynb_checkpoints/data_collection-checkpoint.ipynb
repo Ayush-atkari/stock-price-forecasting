{
 "cells": [
  {
   "cell_type": "code",
   "execution_count": 2,
   "id": "b46d80fb",
   "metadata": {},
   "outputs": [
    {
     "name": "stdout",
     "output_type": "stream",
     "text": [
      "Requirement already satisfied: yfinance in c:\\users\\ayush\\onedrive\\desktop\\data-science_learning\\env\\lib\\site-packages (0.2.63)\n",
      "Requirement already satisfied: pandas>=1.3.0 in c:\\users\\ayush\\onedrive\\desktop\\data-science_learning\\env\\lib\\site-packages (from yfinance) (2.2.3)\n",
      "Requirement already satisfied: numpy>=1.16.5 in c:\\users\\ayush\\onedrive\\desktop\\data-science_learning\\env\\lib\\site-packages (from yfinance) (2.2.5)\n",
      "Requirement already satisfied: requests>=2.31 in c:\\users\\ayush\\onedrive\\desktop\\data-science_learning\\env\\lib\\site-packages (from yfinance) (2.32.3)\n",
      "Requirement already satisfied: multitasking>=0.0.7 in c:\\users\\ayush\\onedrive\\desktop\\data-science_learning\\env\\lib\\site-packages (from yfinance) (0.0.11)\n",
      "Requirement already satisfied: platformdirs>=2.0.0 in c:\\users\\ayush\\onedrive\\desktop\\data-science_learning\\env\\lib\\site-packages (from yfinance) (4.3.7)\n",
      "Requirement already satisfied: pytz>=2022.5 in c:\\users\\ayush\\onedrive\\desktop\\data-science_learning\\env\\lib\\site-packages (from yfinance) (2024.1)\n",
      "Requirement already satisfied: frozendict>=2.3.4 in c:\\users\\ayush\\onedrive\\desktop\\data-science_learning\\env\\lib\\site-packages (from yfinance) (2.4.6)\n",
      "Requirement already satisfied: peewee>=3.16.2 in c:\\users\\ayush\\onedrive\\desktop\\data-science_learning\\env\\lib\\site-packages (from yfinance) (3.18.1)\n",
      "Requirement already satisfied: beautifulsoup4>=4.11.1 in c:\\users\\ayush\\onedrive\\desktop\\data-science_learning\\env\\lib\\site-packages (from yfinance) (4.12.3)\n",
      "Requirement already satisfied: curl_cffi>=0.7 in c:\\users\\ayush\\onedrive\\desktop\\data-science_learning\\env\\lib\\site-packages (from yfinance) (0.11.4)\n",
      "Requirement already satisfied: protobuf>=3.19.0 in c:\\users\\ayush\\onedrive\\desktop\\data-science_learning\\env\\lib\\site-packages (from yfinance) (6.31.1)\n",
      "Requirement already satisfied: websockets>=13.0 in c:\\users\\ayush\\onedrive\\desktop\\data-science_learning\\env\\lib\\site-packages (from yfinance) (15.0.1)\n",
      "Requirement already satisfied: soupsieve>1.2 in c:\\users\\ayush\\onedrive\\desktop\\data-science_learning\\env\\lib\\site-packages (from beautifulsoup4>=4.11.1->yfinance) (2.5)\n",
      "Requirement already satisfied: cffi>=1.12.0 in c:\\users\\ayush\\onedrive\\desktop\\data-science_learning\\env\\lib\\site-packages (from curl_cffi>=0.7->yfinance) (1.17.1)\n",
      "Requirement already satisfied: certifi>=2024.2.2 in c:\\users\\ayush\\onedrive\\desktop\\data-science_learning\\env\\lib\\site-packages (from curl_cffi>=0.7->yfinance) (2025.4.26)\n",
      "Requirement already satisfied: pycparser in c:\\users\\ayush\\onedrive\\desktop\\data-science_learning\\env\\lib\\site-packages (from cffi>=1.12.0->curl_cffi>=0.7->yfinance) (2.21)\n",
      "Requirement already satisfied: python-dateutil>=2.8.2 in c:\\users\\ayush\\onedrive\\desktop\\data-science_learning\\env\\lib\\site-packages (from pandas>=1.3.0->yfinance) (2.9.0.post0)\n",
      "Requirement already satisfied: tzdata>=2022.7 in c:\\users\\ayush\\onedrive\\desktop\\data-science_learning\\env\\lib\\site-packages (from pandas>=1.3.0->yfinance) (2025.2)\n",
      "Requirement already satisfied: six>=1.5 in c:\\users\\ayush\\onedrive\\desktop\\data-science_learning\\env\\lib\\site-packages (from python-dateutil>=2.8.2->pandas>=1.3.0->yfinance) (1.17.0)\n",
      "Requirement already satisfied: charset-normalizer<4,>=2 in c:\\users\\ayush\\onedrive\\desktop\\data-science_learning\\env\\lib\\site-packages (from requests>=2.31->yfinance) (3.3.2)\n",
      "Requirement already satisfied: idna<4,>=2.5 in c:\\users\\ayush\\onedrive\\desktop\\data-science_learning\\env\\lib\\site-packages (from requests>=2.31->yfinance) (3.7)\n",
      "Requirement already satisfied: urllib3<3,>=1.21.1 in c:\\users\\ayush\\onedrive\\desktop\\data-science_learning\\env\\lib\\site-packages (from requests>=2.31->yfinance) (2.3.0)\n",
      "Note: you may need to restart the kernel to use updated packages.\n"
     ]
    }
   ],
   "source": [
    "pip install yfinance"
   ]
  },
  {
   "cell_type": "code",
   "execution_count": 3,
   "id": "b059fa8d",
   "metadata": {},
   "outputs": [
    {
     "name": "stdout",
     "output_type": "stream",
     "text": [
      "                                   Open          High           Low  \\\n",
      "Date                                                                  \n",
      "2020-06-23 00:00:00+05:30  10347.950195  10484.700195  10301.750000   \n",
      "2020-06-24 00:00:00+05:30  10529.250000  10553.150391  10281.950195   \n",
      "2020-06-25 00:00:00+05:30  10235.549805  10361.799805  10194.500000   \n",
      "2020-06-26 00:00:00+05:30  10378.900391  10409.849609  10311.250000   \n",
      "2020-06-29 00:00:00+05:30  10311.950195  10337.950195  10223.599609   \n",
      "\n",
      "                                  Close  Volume  Dividends  Stock Splits  \n",
      "Date                                                                      \n",
      "2020-06-23 00:00:00+05:30  10471.000000  669200        0.0           0.0  \n",
      "2020-06-24 00:00:00+05:30  10305.299805  854800        0.0           0.0  \n",
      "2020-06-25 00:00:00+05:30  10288.900391  994200        0.0           0.0  \n",
      "2020-06-26 00:00:00+05:30  10383.000000  671900        0.0           0.0  \n",
      "2020-06-29 00:00:00+05:30  10312.400391  574500        0.0           0.0  \n"
     ]
    }
   ],
   "source": [
    "### importing data\n",
    "import yfinance as yf\n",
    "\n",
    "# Define ticker symbol for Nifty 50\n",
    "nifty = yf.Ticker(\"^NSEI\")\n",
    "\n",
    "# Download historical data\n",
    "data = nifty.history(period=\"5y\")  # options: \"1d\", \"5d\", \"1mo\", \"1y\", etc.\n",
    "\n",
    "# Display data\n",
    "print(data.head())\n"
   ]
  },
  {
   "cell_type": "code",
   "execution_count": 4,
   "id": "fcb70757",
   "metadata": {},
   "outputs": [
    {
     "data": {
      "text/plain": [
       "<bound method NDFrame.describe of                                    Open          High           Low  \\\n",
       "Date                                                                  \n",
       "2020-06-23 00:00:00+05:30  10347.950195  10484.700195  10301.750000   \n",
       "2020-06-24 00:00:00+05:30  10529.250000  10553.150391  10281.950195   \n",
       "2020-06-25 00:00:00+05:30  10235.549805  10361.799805  10194.500000   \n",
       "2020-06-26 00:00:00+05:30  10378.900391  10409.849609  10311.250000   \n",
       "2020-06-29 00:00:00+05:30  10311.950195  10337.950195  10223.599609   \n",
       "...                                 ...           ...           ...   \n",
       "2025-06-17 00:00:00+05:30  24977.849609  24982.050781  24813.699219   \n",
       "2025-06-18 00:00:00+05:30  24788.349609  24947.550781  24750.449219   \n",
       "2025-06-19 00:00:00+05:30  24803.250000  24863.099609  24733.400391   \n",
       "2025-06-20 00:00:00+05:30  24787.650391  25136.199219  24783.650391   \n",
       "2025-06-23 00:00:00+05:30  24939.750000  25057.000000  24824.849609   \n",
       "\n",
       "                                  Close  Volume  Dividends  Stock Splits  \n",
       "Date                                                                      \n",
       "2020-06-23 00:00:00+05:30  10471.000000  669200        0.0           0.0  \n",
       "2020-06-24 00:00:00+05:30  10305.299805  854800        0.0           0.0  \n",
       "2020-06-25 00:00:00+05:30  10288.900391  994200        0.0           0.0  \n",
       "2020-06-26 00:00:00+05:30  10383.000000  671900        0.0           0.0  \n",
       "2020-06-29 00:00:00+05:30  10312.400391  574500        0.0           0.0  \n",
       "...                                 ...     ...        ...           ...  \n",
       "2025-06-17 00:00:00+05:30  24853.400391  242400        0.0           0.0  \n",
       "2025-06-18 00:00:00+05:30  24812.050781  237600        0.0           0.0  \n",
       "2025-06-19 00:00:00+05:30  24793.250000  274600        0.0           0.0  \n",
       "2025-06-20 00:00:00+05:30  25112.400391  574700        0.0           0.0  \n",
       "2025-06-23 00:00:00+05:30  24971.900391  248500        0.0           0.0  \n",
       "\n",
       "[1238 rows x 7 columns]>"
      ]
     },
     "execution_count": 4,
     "metadata": {},
     "output_type": "execute_result"
    }
   ],
   "source": [
    "data.describe"
   ]
  },
  {
   "cell_type": "code",
   "execution_count": 5,
   "id": "a2bf45be",
   "metadata": {},
   "outputs": [
    {
     "data": {
      "text/plain": [
       "Index(['Open', 'High', 'Low', 'Close', 'Volume', 'Dividends', 'Stock Splits'], dtype='object')"
      ]
     },
     "execution_count": 5,
     "metadata": {},
     "output_type": "execute_result"
    }
   ],
   "source": [
    "data.columns"
   ]
  },
  {
   "cell_type": "code",
   "execution_count": 6,
   "id": "da0e47c9",
   "metadata": {},
   "outputs": [],
   "source": [
    "data = nifty.history(start=\"2019-01-01\", end=\"2024-01-01\")\n"
   ]
  },
  {
   "cell_type": "code",
   "execution_count": 7,
   "id": "ffb70ddc",
   "metadata": {},
   "outputs": [],
   "source": [
    "data.to_csv(\"nifty50_data.csv\")\n"
   ]
  },
  {
   "cell_type": "code",
   "execution_count": 8,
   "id": "5076dd74",
   "metadata": {},
   "outputs": [
    {
     "data": {
      "text/plain": [
       "<bound method DataFrame.info of                                    Open          High           Low  \\\n",
       "Date                                                                  \n",
       "2019-01-02 00:00:00+05:30  10868.849609  10895.349609  10735.049805   \n",
       "2019-01-03 00:00:00+05:30  10796.799805  10814.049805  10661.250000   \n",
       "2019-01-04 00:00:00+05:30  10699.700195  10741.049805  10628.650391   \n",
       "2019-01-07 00:00:00+05:30  10804.849609  10835.950195  10750.150391   \n",
       "2019-01-08 00:00:00+05:30  10786.250000  10818.450195  10733.250000   \n",
       "...                                 ...           ...           ...   \n",
       "2023-12-22 00:00:00+05:30  21295.849609  21390.500000  21232.449219   \n",
       "2023-12-26 00:00:00+05:30  21365.199219  21477.150391  21329.449219   \n",
       "2023-12-27 00:00:00+05:30  21497.650391  21675.750000  21495.800781   \n",
       "2023-12-28 00:00:00+05:30  21715.000000  21801.449219  21678.000000   \n",
       "2023-12-29 00:00:00+05:30  21737.650391  21770.300781  21676.900391   \n",
       "\n",
       "                                  Close  Volume  Dividends  Stock Splits  \n",
       "Date                                                                      \n",
       "2019-01-02 00:00:00+05:30  10792.500000  309700        0.0           0.0  \n",
       "2019-01-03 00:00:00+05:30  10672.250000  286200        0.0           0.0  \n",
       "2019-01-04 00:00:00+05:30  10727.349609  296600        0.0           0.0  \n",
       "2019-01-07 00:00:00+05:30  10771.799805  269400        0.0           0.0  \n",
       "2019-01-08 00:00:00+05:30  10802.150391  277700        0.0           0.0  \n",
       "...                                 ...     ...        ...           ...  \n",
       "2023-12-22 00:00:00+05:30  21349.400391  284700        0.0           0.0  \n",
       "2023-12-26 00:00:00+05:30  21441.349609  219500        0.0           0.0  \n",
       "2023-12-27 00:00:00+05:30  21654.750000  256500        0.0           0.0  \n",
       "2023-12-28 00:00:00+05:30  21778.699219  393100        0.0           0.0  \n",
       "2023-12-29 00:00:00+05:30  21731.400391  270900        0.0           0.0  \n",
       "\n",
       "[1232 rows x 7 columns]>"
      ]
     },
     "execution_count": 8,
     "metadata": {},
     "output_type": "execute_result"
    }
   ],
   "source": [
    "data.info"
   ]
  },
  {
   "cell_type": "code",
   "execution_count": 9,
   "id": "4994d71e",
   "metadata": {},
   "outputs": [],
   "source": [
    "data1 = nifty.history(start=\"2019-01-01\", end=\"2025-06-20\")"
   ]
  },
  {
   "cell_type": "code",
   "execution_count": 10,
   "id": "9b0e49a7-5f7f-40ec-a412-68e4cd72b832",
   "metadata": {},
   "outputs": [
    {
     "data": {
      "text/plain": [
       "<bound method DataFrame.info of                                    Open          High           Low  \\\n",
       "Date                                                                  \n",
       "2019-01-02 00:00:00+05:30  10868.849609  10895.349609  10735.049805   \n",
       "2019-01-03 00:00:00+05:30  10796.799805  10814.049805  10661.250000   \n",
       "2019-01-04 00:00:00+05:30  10699.700195  10741.049805  10628.650391   \n",
       "2019-01-07 00:00:00+05:30  10804.849609  10835.950195  10750.150391   \n",
       "2019-01-08 00:00:00+05:30  10786.250000  10818.450195  10733.250000   \n",
       "...                                 ...           ...           ...   \n",
       "2025-06-13 00:00:00+05:30  24473.000000  24754.349609  24473.000000   \n",
       "2025-06-16 00:00:00+05:30  24732.349609  24967.099609  24703.599609   \n",
       "2025-06-17 00:00:00+05:30  24977.849609  24982.050781  24813.699219   \n",
       "2025-06-18 00:00:00+05:30  24788.349609  24947.550781  24750.449219   \n",
       "2025-06-19 00:00:00+05:30  24803.250000  24863.099609  24733.400391   \n",
       "\n",
       "                                  Close  Volume  Dividends  Stock Splits  \n",
       "Date                                                                      \n",
       "2019-01-02 00:00:00+05:30  10792.500000  309700        0.0           0.0  \n",
       "2019-01-03 00:00:00+05:30  10672.250000  286200        0.0           0.0  \n",
       "2019-01-04 00:00:00+05:30  10727.349609  296600        0.0           0.0  \n",
       "2019-01-07 00:00:00+05:30  10771.799805  269400        0.0           0.0  \n",
       "2019-01-08 00:00:00+05:30  10802.150391  277700        0.0           0.0  \n",
       "...                                 ...     ...        ...           ...  \n",
       "2025-06-13 00:00:00+05:30  24718.599609  318700        0.0           0.0  \n",
       "2025-06-16 00:00:00+05:30  24946.500000  305800        0.0           0.0  \n",
       "2025-06-17 00:00:00+05:30  24853.400391  242400        0.0           0.0  \n",
       "2025-06-18 00:00:00+05:30  24812.050781  237600        0.0           0.0  \n",
       "2025-06-19 00:00:00+05:30  24793.250000  274600        0.0           0.0  \n",
       "\n",
       "[1593 rows x 7 columns]>"
      ]
     },
     "execution_count": 10,
     "metadata": {},
     "output_type": "execute_result"
    }
   ],
   "source": [
    "data1.info"
   ]
  },
  {
   "cell_type": "code",
   "execution_count": 11,
   "id": "e83e5c09-9c80-4062-8e42-60192db62287",
   "metadata": {},
   "outputs": [
    {
     "data": {
      "text/plain": [
       "<bound method NDFrame.describe of                                    Open          High           Low  \\\n",
       "Date                                                                  \n",
       "2019-01-02 00:00:00+05:30  10868.849609  10895.349609  10735.049805   \n",
       "2019-01-03 00:00:00+05:30  10796.799805  10814.049805  10661.250000   \n",
       "2019-01-04 00:00:00+05:30  10699.700195  10741.049805  10628.650391   \n",
       "2019-01-07 00:00:00+05:30  10804.849609  10835.950195  10750.150391   \n",
       "2019-01-08 00:00:00+05:30  10786.250000  10818.450195  10733.250000   \n",
       "...                                 ...           ...           ...   \n",
       "2025-06-13 00:00:00+05:30  24473.000000  24754.349609  24473.000000   \n",
       "2025-06-16 00:00:00+05:30  24732.349609  24967.099609  24703.599609   \n",
       "2025-06-17 00:00:00+05:30  24977.849609  24982.050781  24813.699219   \n",
       "2025-06-18 00:00:00+05:30  24788.349609  24947.550781  24750.449219   \n",
       "2025-06-19 00:00:00+05:30  24803.250000  24863.099609  24733.400391   \n",
       "\n",
       "                                  Close  Volume  Dividends  Stock Splits  \n",
       "Date                                                                      \n",
       "2019-01-02 00:00:00+05:30  10792.500000  309700        0.0           0.0  \n",
       "2019-01-03 00:00:00+05:30  10672.250000  286200        0.0           0.0  \n",
       "2019-01-04 00:00:00+05:30  10727.349609  296600        0.0           0.0  \n",
       "2019-01-07 00:00:00+05:30  10771.799805  269400        0.0           0.0  \n",
       "2019-01-08 00:00:00+05:30  10802.150391  277700        0.0           0.0  \n",
       "...                                 ...     ...        ...           ...  \n",
       "2025-06-13 00:00:00+05:30  24718.599609  318700        0.0           0.0  \n",
       "2025-06-16 00:00:00+05:30  24946.500000  305800        0.0           0.0  \n",
       "2025-06-17 00:00:00+05:30  24853.400391  242400        0.0           0.0  \n",
       "2025-06-18 00:00:00+05:30  24812.050781  237600        0.0           0.0  \n",
       "2025-06-19 00:00:00+05:30  24793.250000  274600        0.0           0.0  \n",
       "\n",
       "[1593 rows x 7 columns]>"
      ]
     },
     "execution_count": 11,
     "metadata": {},
     "output_type": "execute_result"
    }
   ],
   "source": [
    "data1.describe"
   ]
  },
  {
   "cell_type": "code",
   "execution_count": 12,
   "id": "1251cd35-c41d-440c-b7e5-6a06dd079683",
   "metadata": {},
   "outputs": [],
   "source": [
    "data1.to_csv(\"nifty50.csv\")"
   ]
  },
  {
   "cell_type": "code",
   "execution_count": 13,
   "id": "42726f85-4adc-4a1d-9306-6a756feadd61",
   "metadata": {},
   "outputs": [
    {
     "data": {
      "text/plain": [
       "<Axes: xlabel='Date'>"
      ]
     },
     "execution_count": 13,
     "metadata": {},
     "output_type": "execute_result"
    },
    {
     "data": {
      "image/png": "[encoded data removed]",
      "text/plain": [
       "<Figure size 640x480 with 1 Axes>"
      ]
     },
     "metadata": {},
     "output_type": "display_data"
    }
   ],
   "source": [
    "data1.plot()"
   ]
  },
  {
   "cell_type": "code",
   "execution_count": 15,
   "id": "711f40b7-dbce-4e65-8513-af2f5168d05c",
   "metadata": {},
   "outputs": [],
   "source": [
    "data1.reset_index(inplace=True)"
   ]
  },
  {
   "cell_type": "code",
   "execution_count": 16,
   "id": "031f9a3e-a0bd-4c5d-a76b-11377d69636e",
   "metadata": {},
   "outputs": [
    {
     "data": {
      "text/plain": [
       "<bound method NDFrame.head of                           Date          Open          High           Low  \\\n",
       "0    2019-01-02 00:00:00+05:30  10868.849609  10895.349609  10735.049805   \n",
       "1    2019-01-03 00:00:00+05:30  10796.799805  10814.049805  10661.250000   \n",
       "2    2019-01-04 00:00:00+05:30  10699.700195  10741.049805  10628.650391   \n",
       "3    2019-01-07 00:00:00+05:30  10804.849609  10835.950195  10750.150391   \n",
       "4    2019-01-08 00:00:00+05:30  10786.250000  10818.450195  10733.250000   \n",
       "...                        ...           ...           ...           ...   \n",
       "1588 2025-06-13 00:00:00+05:30  24473.000000  24754.349609  24473.000000   \n",
       "1589 2025-06-16 00:00:00+05:30  24732.349609  24967.099609  24703.599609   \n",
       "1590 2025-06-17 00:00:00+05:30  24977.849609  24982.050781  24813.699219   \n",
       "1591 2025-06-18 00:00:00+05:30  24788.349609  24947.550781  24750.449219   \n",
       "1592 2025-06-19 00:00:00+05:30  24803.250000  24863.099609  24733.400391   \n",
       "\n",
       "             Close  Volume  Dividends  Stock Splits  \n",
       "0     10792.500000  309700        0.0           0.0  \n",
       "1     10672.250000  286200        0.0           0.0  \n",
       "2     10727.349609  296600        0.0           0.0  \n",
       "3     10771.799805  269400        0.0           0.0  \n",
       "4     10802.150391  277700        0.0           0.0  \n",
       "...            ...     ...        ...           ...  \n",
       "1588  24718.599609  318700        0.0           0.0  \n",
       "1589  24946.500000  305800        0.0           0.0  \n",
       "1590  24853.400391  242400        0.0           0.0  \n",
       "1591  24812.050781  237600        0.0           0.0  \n",
       "1592  24793.250000  274600        0.0           0.0  \n",
       "\n",
       "[1593 rows x 8 columns]>"
      ]
     },
     "execution_count": 16,
     "metadata": {},
     "output_type": "execute_result"
    }
   ],
   "source": [
    "data1.head"
   ]
  },
  {
   "cell_type": "code",
   "execution_count": 18,
   "id": "f81f1569-5964-4573-a00a-cd33c3186bbd",
   "metadata": {},
   "outputs": [
    {
     "name": "stdout",
     "output_type": "stream",
     "text": [
      "                          Date          Open          High           Low  \\\n",
      "0    2019-01-02 00:00:00+05:30  10868.849609  10895.349609  10735.049805   \n",
      "1    2019-01-03 00:00:00+05:30  10796.799805  10814.049805  10661.250000   \n",
      "2    2019-01-04 00:00:00+05:30  10699.700195  10741.049805  10628.650391   \n",
      "3    2019-01-07 00:00:00+05:30  10804.849609  10835.950195  10750.150391   \n",
      "4    2019-01-08 00:00:00+05:30  10786.250000  10818.450195  10733.250000   \n",
      "...                        ...           ...           ...           ...   \n",
      "1588 2025-06-13 00:00:00+05:30  24473.000000  24754.349609  24473.000000   \n",
      "1589 2025-06-16 00:00:00+05:30  24732.349609  24967.099609  24703.599609   \n",
      "1590 2025-06-17 00:00:00+05:30  24977.849609  24982.050781  24813.699219   \n",
      "1591 2025-06-18 00:00:00+05:30  24788.349609  24947.550781  24750.449219   \n",
      "1592 2025-06-19 00:00:00+05:30  24803.250000  24863.099609  24733.400391   \n",
      "\n",
      "             Close  Volume  Dividends  Stock Splits  \n",
      "0     10792.500000  309700        0.0           0.0  \n",
      "1     10672.250000  286200        0.0           0.0  \n",
      "2     10727.349609  296600        0.0           0.0  \n",
      "3     10771.799805  269400        0.0           0.0  \n",
      "4     10802.150391  277700        0.0           0.0  \n",
      "...            ...     ...        ...           ...  \n",
      "1588  24718.599609  318700        0.0           0.0  \n",
      "1589  24946.500000  305800        0.0           0.0  \n",
      "1590  24853.400391  242400        0.0           0.0  \n",
      "1591  24812.050781  237600        0.0           0.0  \n",
      "1592  24793.250000  274600        0.0           0.0  \n",
      "\n",
      "[1593 rows x 8 columns]\n"
     ]
    }
   ],
   "source": [
    "print(data1)"
   ]
  },
  {
   "cell_type": "code",
   "execution_count": null,
   "id": "335459e4-f1cb-495f-b193-40ba67d91b8c",
   "metadata": {},
   "outputs": [],
   "source": []
  }
 ],
 "metadata": {
  "kernelspec": {
   "display_name": "Python 3 (ipykernel)",
   "language": "python",
   "name": "python3"
  },
  "language_info": {
   "codemirror_mode": {
    "name": "ipython",
    "version": 3
   },
   "file_extension": ".py",
   "mimetype": "text/x-python",
   "name": "python",
   "nbconvert_exporter": "python",
   "pygments_lexer": "ipython3",
   "version": "3.13.2"
  }
 },
 "nbformat": 4,
 "nbformat_minor": 5
}
